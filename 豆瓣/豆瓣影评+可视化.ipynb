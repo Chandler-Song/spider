{
 "cells": [
  {
   "cell_type": "code",
   "execution_count": null,
   "metadata": {
    "collapsed": true
   },
   "outputs": [],
   "source": [
    "from urllib import request\n",
    "resp = request.urlopen('https://movie.douban.com/nowplaying/hangzhou/')\n",
    "html_data = resp.read().decode('utf-8')\n",
    "from bs4 import BeautifulSoup\n",
    "soup = bs4(html_data,'html.parser')\n",
    "nowplaying_movie = soup.find_all('div',id='nowpalying')\n",
    "nowplaying_movie_list = nowplaying_movie[0].find_all('li',class_='list-item')"
   ]
  },
  {
   "cell_type": "code",
   "execution_count": null,
   "metadata": {},
   "outputs": [],
   "source": [
    "nowplaying_list = [] \n",
    "for item in nowplaying_movie_list:        \n",
    "        nowplaying_dict = {}        \n",
    "        nowplaying_dict['id'] = item['data-subject']       \n",
    "        for tag_img_item in item.find_all('img'):            \n",
    "            nowplaying_dict['name'] = tag_img_item['alt']            \n",
    "            nowplaying_list.append(nowplaying_dict)"
   ]
  },
  {
   "cell_type": "code",
   "execution_count": null,
   "metadata": {},
   "outputs": [],
   "source": [
    "requrl = 'https://movie.douban.com/subject/' + nowplaying_list[0]['id'] + '/comments' +'?' +'start=0' + '&limit=20' \n",
    "resp = request.urlopen(requrl) \n",
    "html_data = resp.read().decode('utf-8') \n",
    "soup = bs4(html_data, 'html.parser') \n",
    "comment_div_lits = soup.find_all('div', class_='comment')"
   ]
  },
  {
   "cell_type": "code",
   "execution_count": null,
   "metadata": {},
   "outputs": [],
   "source": [
    "eachCommentList = []; \n",
    "for item in comment_div_lits: \n",
    "        if item.find_all('p')[0].string is not None:     \n",
    "            eachCommentList.append(item.find_all('p')[0].string)"
   ]
  },
  {
   "cell_type": "code",
   "execution_count": null,
   "metadata": {},
   "outputs": [],
   "source": [
    "comments = ''\n",
    "for k in range(len(eachCommentList)):\n",
    "    comments = comments + (str(eachCommentList[k])).strip()"
   ]
  },
  {
   "cell_type": "code",
   "execution_count": null,
   "metadata": {},
   "outputs": [],
   "source": [
    "import jieba    #分词包\n",
    "import pandas as pd  \n",
    "\n",
    "segment = jieba.lcut(cleaned_comments)\n",
    "words_df=pd.DataFrame({'segment':segment})\n",
    "\n",
    "pattern = re.compile(r'[\\u4e00-\\u9fa5]+')\n",
    "filterdata = re.findall(pattern, comments)\n",
    "cleaned_comments = ''.join(filterdata)"
   ]
  }
 ],
 "metadata": {
  "kernelspec": {
   "display_name": "Python 2",
   "language": "python",
   "name": "python2"
  },
  "language_info": {
   "codemirror_mode": {
    "name": "ipython",
    "version": 2.0
   },
   "file_extension": ".py",
   "mimetype": "text/x-python",
   "name": "python",
   "nbconvert_exporter": "python",
   "pygments_lexer": "ipython2",
   "version": "2.7.6"
  }
 },
 "nbformat": 4,
 "nbformat_minor": 0
}